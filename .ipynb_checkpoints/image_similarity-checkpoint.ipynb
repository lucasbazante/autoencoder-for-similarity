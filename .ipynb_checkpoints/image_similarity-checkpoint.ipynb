{
 "cells": [
  {
   "cell_type": "code",
   "execution_count": 12,
   "metadata": {
    "executionInfo": {
     "elapsed": 1142,
     "status": "ok",
     "timestamp": 1683565808130,
     "user": {
      "displayName": "Lucas Bazante",
      "userId": "15220540559379714237"
     },
     "user_tz": 180
    },
    "id": "2CTbFonI5frA"
   },
   "outputs": [],
   "source": [
    "import tensorflow_datasets as tfds\n",
    "\n",
    "import numpy as np\n",
    "import matplotlib.pyplot as plt\n",
    "\n",
    "import tensorflow as tf\n",
    "from tensorflow import keras\n",
    "from keras import layers\n",
    "\n",
    "import functools\n",
    "\n",
    "from sklearn.neighbors import NearestNeighbors # similarity\n",
    "\n",
    "import ipywidgets as w # interface"
   ]
  },
  {
   "cell_type": "code",
   "execution_count": 13,
   "metadata": {
    "executionInfo": {
     "elapsed": 616,
     "status": "ok",
     "timestamp": 1683565808739,
     "user": {
      "displayName": "Lucas Bazante",
      "userId": "15220540559379714237"
     },
     "user_tz": 180
    },
    "id": "pV2uoprA64tw"
   },
   "outputs": [],
   "source": [
    "ds = tfds.load(\"imagenette/160px\")"
   ]
  },
  {
   "cell_type": "code",
   "execution_count": 14,
   "metadata": {
    "executionInfo": {
     "elapsed": 12,
     "status": "ok",
     "timestamp": 1683565808741,
     "user": {
      "displayName": "Lucas Bazante",
      "userId": "15220540559379714237"
     },
     "user_tz": 180
    },
    "id": "Hai3hlWv7CEk"
   },
   "outputs": [],
   "source": [
    "def extract_image(example):\n",
    "    image = example['image']\n",
    "    return image\n",
    "\n",
    "def preprocess_image(image, height, width):\n",
    "    image = tf.image.resize(image, (height, width))\n",
    "    image = tf.cast(image, tf.float32) / 255.0\n",
    "    return image\n",
    "\n",
    "def get_image_batches(batch_size = 128, height = 256, width = 256):\n",
    "    partial_preprocess_image = functools.partial(preprocess_image, height=height, width=width)\n",
    "    train_ds = ds['train']\n",
    "    train_ds = ( train_ds.map(extract_image)\n",
    "                .map(partial_preprocess_image)\n",
    "                .cache()\n",
    "                .shuffle(buffer_size=1000)\n",
    "                .batch(batch_size)\n",
    "                .prefetch(tf.data.AUTOTUNE)\n",
    "                )\n",
    "    return train_ds"
   ]
  },
  {
   "cell_type": "code",
   "execution_count": 15,
   "metadata": {
    "executionInfo": {
     "elapsed": 11,
     "status": "ok",
     "timestamp": 1683565808742,
     "user": {
      "displayName": "Lucas Bazante",
      "userId": "15220540559379714237"
     },
     "user_tz": 180
    },
    "id": "WtvNnDmm7D6G"
   },
   "outputs": [],
   "source": [
    "BATCH_SIZE = 32\n",
    "IMG_WIDTH = IMG_HEIGHT = 32\n",
    "train_ds = get_image_batches(batch_size = BATCH_SIZE, height = IMG_HEIGHT, width = IMG_WIDTH)"
   ]
  },
  {
   "cell_type": "code",
   "execution_count": 16,
   "metadata": {
    "colab": {
     "base_uri": "https://localhost:8080/"
    },
    "executionInfo": {
     "elapsed": 14404,
     "status": "ok",
     "timestamp": 1683565823137,
     "user": {
      "displayName": "Lucas Bazante",
      "userId": "15220540559379714237"
     },
     "user_tz": 180
    },
    "id": "GdqmJDca78fn",
    "outputId": "970a2548-92e8-4e50-aa48-7561d46f0a46"
   },
   "outputs": [
    {
     "name": "stdout",
     "output_type": "stream",
     "text": [
      "(9600, 32, 32, 3)\n"
     ]
    }
   ],
   "source": [
    "images = np.array([img for batch in train_ds.take(300) for img in batch])\n",
    "print(images.shape)"
   ]
  },
  {
   "cell_type": "code",
   "execution_count": 17,
   "metadata": {
    "colab": {
     "base_uri": "https://localhost:8080/"
    },
    "executionInfo": {
     "elapsed": 1547,
     "status": "ok",
     "timestamp": 1683565824672,
     "user": {
      "displayName": "Lucas Bazante",
      "userId": "15220540559379714237"
     },
     "user_tz": 180
    },
    "id": "1yMmiTXZ866z",
    "outputId": "f3200bb7-954b-423a-dc42-98fcbb5e4334"
   },
   "outputs": [
    {
     "name": "stdout",
     "output_type": "stream",
     "text": [
      "Model: \"model_9\"\n",
      "_________________________________________________________________\n",
      " Layer (type)                Output Shape              Param #   \n",
      "=================================================================\n",
      " input_1 (InputLayer)        [(None, 32, 32, 3)]       0         \n",
      "                                                                 \n",
      " conv2d (Conv2D)             (None, 32, 32, 16)        448       \n",
      "                                                                 \n",
      " conv2d_1 (Conv2D)           (None, 32, 32, 32)        4640      \n",
      "                                                                 \n",
      " conv2d_2 (Conv2D)           (None, 32, 32, 64)        18496     \n",
      "                                                                 \n",
      " max_pooling2d (MaxPooling2D  (None, 16, 16, 64)       0         \n",
      " )                                                               \n",
      "                                                                 \n",
      " conv2d_3 (Conv2D)           (None, 16, 16, 128)       73856     \n",
      "                                                                 \n",
      " conv2d_4 (Conv2D)           (None, 16, 16, 64)        73792     \n",
      "                                                                 \n",
      " max_pooling2d_1 (MaxPooling  (None, 8, 8, 64)         0         \n",
      " 2D)                                                             \n",
      "                                                                 \n",
      " conv2d_5 (Conv2D)           (None, 8, 8, 32)          18464     \n",
      "                                                                 \n",
      " conv2d_6 (Conv2D)           (None, 8, 8, 16)          4624      \n",
      "                                                                 \n",
      " conv2d_7 (Conv2D)           (None, 8, 8, 8)           1160      \n",
      "                                                                 \n",
      " flatten_5 (Flatten)         (None, 512)               0         \n",
      "                                                                 \n",
      "=================================================================\n",
      "Total params: 195,480\n",
      "Trainable params: 195,480\n",
      "Non-trainable params: 0\n",
      "_________________________________________________________________\n"
     ]
    }
   ],
   "source": [
    "encoder = keras.models.load_model(\"saved_models/encoder.keras\")\n",
    "encoder.summary()"
   ]
  },
  {
   "cell_type": "code",
   "execution_count": 18,
   "metadata": {
    "colab": {
     "base_uri": "https://localhost:8080/",
     "height": 93
    },
    "executionInfo": {
     "elapsed": 31419,
     "status": "ok",
     "timestamp": 1683565856077,
     "user": {
      "displayName": "Lucas Bazante",
      "userId": "15220540559379714237"
     },
     "user_tz": 180
    },
    "id": "VlBLGxMJ-rTu",
    "outputId": "a946d0c0-43ee-4e5f-e02c-2e93bed0e94d"
   },
   "outputs": [
    {
     "name": "stdout",
     "output_type": "stream",
     "text": [
      "300/300 [==============================] - 31s 101ms/step\n"
     ]
    },
    {
     "data": {
      "text/html": [
       "<style>#sk-container-id-2 {color: black;background-color: white;}#sk-container-id-2 pre{padding: 0;}#sk-container-id-2 div.sk-toggleable {background-color: white;}#sk-container-id-2 label.sk-toggleable__label {cursor: pointer;display: block;width: 100%;margin-bottom: 0;padding: 0.3em;box-sizing: border-box;text-align: center;}#sk-container-id-2 label.sk-toggleable__label-arrow:before {content: \"▸\";float: left;margin-right: 0.25em;color: #696969;}#sk-container-id-2 label.sk-toggleable__label-arrow:hover:before {color: black;}#sk-container-id-2 div.sk-estimator:hover label.sk-toggleable__label-arrow:before {color: black;}#sk-container-id-2 div.sk-toggleable__content {max-height: 0;max-width: 0;overflow: hidden;text-align: left;background-color: #f0f8ff;}#sk-container-id-2 div.sk-toggleable__content pre {margin: 0.2em;color: black;border-radius: 0.25em;background-color: #f0f8ff;}#sk-container-id-2 input.sk-toggleable__control:checked~div.sk-toggleable__content {max-height: 200px;max-width: 100%;overflow: auto;}#sk-container-id-2 input.sk-toggleable__control:checked~label.sk-toggleable__label-arrow:before {content: \"▾\";}#sk-container-id-2 div.sk-estimator input.sk-toggleable__control:checked~label.sk-toggleable__label {background-color: #d4ebff;}#sk-container-id-2 div.sk-label input.sk-toggleable__control:checked~label.sk-toggleable__label {background-color: #d4ebff;}#sk-container-id-2 input.sk-hidden--visually {border: 0;clip: rect(1px 1px 1px 1px);clip: rect(1px, 1px, 1px, 1px);height: 1px;margin: -1px;overflow: hidden;padding: 0;position: absolute;width: 1px;}#sk-container-id-2 div.sk-estimator {font-family: monospace;background-color: #f0f8ff;border: 1px dotted black;border-radius: 0.25em;box-sizing: border-box;margin-bottom: 0.5em;}#sk-container-id-2 div.sk-estimator:hover {background-color: #d4ebff;}#sk-container-id-2 div.sk-parallel-item::after {content: \"\";width: 100%;border-bottom: 1px solid gray;flex-grow: 1;}#sk-container-id-2 div.sk-label:hover label.sk-toggleable__label {background-color: #d4ebff;}#sk-container-id-2 div.sk-serial::before {content: \"\";position: absolute;border-left: 1px solid gray;box-sizing: border-box;top: 0;bottom: 0;left: 50%;z-index: 0;}#sk-container-id-2 div.sk-serial {display: flex;flex-direction: column;align-items: center;background-color: white;padding-right: 0.2em;padding-left: 0.2em;position: relative;}#sk-container-id-2 div.sk-item {position: relative;z-index: 1;}#sk-container-id-2 div.sk-parallel {display: flex;align-items: stretch;justify-content: center;background-color: white;position: relative;}#sk-container-id-2 div.sk-item::before, #sk-container-id-2 div.sk-parallel-item::before {content: \"\";position: absolute;border-left: 1px solid gray;box-sizing: border-box;top: 0;bottom: 0;left: 50%;z-index: -1;}#sk-container-id-2 div.sk-parallel-item {display: flex;flex-direction: column;z-index: 1;position: relative;background-color: white;}#sk-container-id-2 div.sk-parallel-item:first-child::after {align-self: flex-end;width: 50%;}#sk-container-id-2 div.sk-parallel-item:last-child::after {align-self: flex-start;width: 50%;}#sk-container-id-2 div.sk-parallel-item:only-child::after {width: 0;}#sk-container-id-2 div.sk-dashed-wrapped {border: 1px dashed gray;margin: 0 0.4em 0.5em 0.4em;box-sizing: border-box;padding-bottom: 0.4em;background-color: white;}#sk-container-id-2 div.sk-label label {font-family: monospace;font-weight: bold;display: inline-block;line-height: 1.2em;}#sk-container-id-2 div.sk-label-container {text-align: center;}#sk-container-id-2 div.sk-container {/* jupyter's `normalize.less` sets `[hidden] { display: none; }` but bootstrap.min.css set `[hidden] { display: none !important; }` so we also need the `!important` here to be able to override the default hidden behavior on the sphinx rendered scikit-learn.org. See: https://github.com/scikit-learn/scikit-learn/issues/21755 */display: inline-block !important;position: relative;}#sk-container-id-2 div.sk-text-repr-fallback {display: none;}</style><div id=\"sk-container-id-2\" class=\"sk-top-container\"><div class=\"sk-text-repr-fallback\"><pre>NearestNeighbors(metric=&#x27;cosine&#x27;)</pre><b>In a Jupyter environment, please rerun this cell to show the HTML representation or trust the notebook. <br />On GitHub, the HTML representation is unable to render, please try loading this page with nbviewer.org.</b></div><div class=\"sk-container\" hidden><div class=\"sk-item\"><div class=\"sk-estimator sk-toggleable\"><input class=\"sk-toggleable__control sk-hidden--visually\" id=\"sk-estimator-id-2\" type=\"checkbox\" checked><label for=\"sk-estimator-id-2\" class=\"sk-toggleable__label sk-toggleable__label-arrow\">NearestNeighbors</label><div class=\"sk-toggleable__content\"><pre>NearestNeighbors(metric=&#x27;cosine&#x27;)</pre></div></div></div></div></div>"
      ],
      "text/plain": [
       "NearestNeighbors(metric='cosine')"
      ]
     },
     "execution_count": 18,
     "metadata": {},
     "output_type": "execute_result"
    }
   ],
   "source": [
    "features = encoder.predict(images, batch_size = BATCH_SIZE)\n",
    "\n",
    "knn = NearestNeighbors(n_neighbors=5, metric=\"cosine\")\n",
    "knn.fit(features)"
   ]
  },
  {
   "cell_type": "code",
   "execution_count": 19,
   "metadata": {
    "colab": {
     "base_uri": "https://localhost:8080/",
     "height": 288,
     "referenced_widgets": [
      "7709156c8ac44d2ea7428adc52c8ebad",
      "c45395c6731340ad83b7e2a90621012e",
      "8f83d8aa7868410f99eb6eb77d200368",
      "f8f6829f5842413490d7580bd3ed35cf",
      "382f9dd679d946b8b33ab0e677f366d1",
      "49c407cd249247a78cbd615f4e82b1ff",
      "685d5ef12af040ff89669f0cf644bc99",
      "7fb9ca36815940ac9e01121376d17aa4",
      "fa09ae24fa314069be4aaad4a4cfbf26",
      "57d943607ae74603ba1444f1347d1a3c"
     ]
    },
    "executionInfo": {
     "elapsed": 655,
     "status": "ok",
     "timestamp": 1683565856707,
     "user": {
      "displayName": "Lucas Bazante",
      "userId": "15220540559379714237"
     },
     "user_tz": 180
    },
    "id": "DWB1OlgH-yi7",
    "outputId": "f5507c7e-d0d0-4b8d-c77d-d95261e44e22"
   },
   "outputs": [
    {
     "data": {
      "application/vnd.jupyter.widget-view+json": {
       "model_id": "7709156c8ac44d2ea7428adc52c8ebad",
       "version_major": 2,
       "version_minor": 0
      },
      "text/plain": [
       "interactive(children=(IntSlider(value=0, continuous_update=False, description='start_image_idx', max=9599), In…"
      ]
     },
     "metadata": {},
     "output_type": "display_data"
    },
    {
     "data": {
      "text/plain": [
       "<function __main__.show_similar_images(start_image_idx, n_neighbors=10)>"
      ]
     },
     "execution_count": 19,
     "metadata": {},
     "output_type": "execute_result"
    }
   ],
   "source": [
    "def show_similar_images(start_image_idx, n_neighbors=10):\n",
    "    input_image = images[start_image_idx]\n",
    "    input_image = np.expand_dims(input_image, 0)\n",
    "    fig, axes = plt.subplots(1, n_neighbors+1, figsize=(n_neighbors * 2, 5))\n",
    "\n",
    "    feature = encoder.predict(input_image)\n",
    "    distances, nbors = knn.kneighbors(feature, n_neighbors=n_neighbors)\n",
    "    distances, nbors = distances[0], nbors[0]\n",
    "    nbor_images = [images[i] for i in nbors]\n",
    "\n",
    "    for i in range(len(nbor_images)+1):\n",
    "        ax = axes[i]\n",
    "        ax.set_axis_off()\n",
    "        if i == 0:\n",
    "            ax.imshow(input_image.squeeze(0))\n",
    "            ax.set_title(\"Input\")\n",
    "        else:\n",
    "            ax.imshow(nbor_images[i-1])\n",
    "            ax.set_title(f\"Sim: {1 - distances[i-1]:.2f}\")\n",
    "    plt.show()\n",
    "\n",
    "w.interact(show_similar_images, \n",
    "    start_image_idx=w.IntSlider(max=len(images)-1, continuous_update=False),\n",
    "    n_neighbors=w.IntSlider(min=2, value=5, max=10, continuous_update=False),\n",
    ")"
   ]
  }
 ],
 "metadata": {
  "colab": {
   "authorship_tag": "ABX9TyPRnOshVigMHl2M7536hMXt",
   "mount_file_id": "1QTJS0WteY0XGsjM2WYaEXuJfDsFuY8op",
   "provenance": []
  },
  "kernelspec": {
   "display_name": "Python 3 (ipykernel)",
   "language": "python",
   "name": "python3"
  },
  "language_info": {
   "codemirror_mode": {
    "name": "ipython",
    "version": 3
   },
   "file_extension": ".py",
   "mimetype": "text/x-python",
   "name": "python",
   "nbconvert_exporter": "python",
   "pygments_lexer": "ipython3",
   "version": "3.11.6"
  },
  "widgets": {
   "application/vnd.jupyter.widget-state+json": {
    "382f9dd679d946b8b33ab0e677f366d1": {
     "model_module": "@jupyter-widgets/base",
     "model_module_version": "1.2.0",
     "model_name": "LayoutModel",
     "state": {
      "_model_module": "@jupyter-widgets/base",
      "_model_module_version": "1.2.0",
      "_model_name": "LayoutModel",
      "_view_count": null,
      "_view_module": "@jupyter-widgets/base",
      "_view_module_version": "1.2.0",
      "_view_name": "LayoutView",
      "align_content": null,
      "align_items": null,
      "align_self": null,
      "border": null,
      "bottom": null,
      "display": null,
      "flex": null,
      "flex_flow": null,
      "grid_area": null,
      "grid_auto_columns": null,
      "grid_auto_flow": null,
      "grid_auto_rows": null,
      "grid_column": null,
      "grid_gap": null,
      "grid_row": null,
      "grid_template_areas": null,
      "grid_template_columns": null,
      "grid_template_rows": null,
      "height": null,
      "justify_content": null,
      "justify_items": null,
      "left": null,
      "margin": null,
      "max_height": null,
      "max_width": null,
      "min_height": null,
      "min_width": null,
      "object_fit": null,
      "object_position": null,
      "order": null,
      "overflow": null,
      "overflow_x": null,
      "overflow_y": null,
      "padding": null,
      "right": null,
      "top": null,
      "visibility": null,
      "width": null
     }
    },
    "49c407cd249247a78cbd615f4e82b1ff": {
     "model_module": "@jupyter-widgets/base",
     "model_module_version": "1.2.0",
     "model_name": "LayoutModel",
     "state": {
      "_model_module": "@jupyter-widgets/base",
      "_model_module_version": "1.2.0",
      "_model_name": "LayoutModel",
      "_view_count": null,
      "_view_module": "@jupyter-widgets/base",
      "_view_module_version": "1.2.0",
      "_view_name": "LayoutView",
      "align_content": null,
      "align_items": null,
      "align_self": null,
      "border": null,
      "bottom": null,
      "display": null,
      "flex": null,
      "flex_flow": null,
      "grid_area": null,
      "grid_auto_columns": null,
      "grid_auto_flow": null,
      "grid_auto_rows": null,
      "grid_column": null,
      "grid_gap": null,
      "grid_row": null,
      "grid_template_areas": null,
      "grid_template_columns": null,
      "grid_template_rows": null,
      "height": null,
      "justify_content": null,
      "justify_items": null,
      "left": null,
      "margin": null,
      "max_height": null,
      "max_width": null,
      "min_height": null,
      "min_width": null,
      "object_fit": null,
      "object_position": null,
      "order": null,
      "overflow": null,
      "overflow_x": null,
      "overflow_y": null,
      "padding": null,
      "right": null,
      "top": null,
      "visibility": null,
      "width": null
     }
    },
    "57d943607ae74603ba1444f1347d1a3c": {
     "model_module": "@jupyter-widgets/base",
     "model_module_version": "1.2.0",
     "model_name": "LayoutModel",
     "state": {
      "_model_module": "@jupyter-widgets/base",
      "_model_module_version": "1.2.0",
      "_model_name": "LayoutModel",
      "_view_count": null,
      "_view_module": "@jupyter-widgets/base",
      "_view_module_version": "1.2.0",
      "_view_name": "LayoutView",
      "align_content": null,
      "align_items": null,
      "align_self": null,
      "border": null,
      "bottom": null,
      "display": null,
      "flex": null,
      "flex_flow": null,
      "grid_area": null,
      "grid_auto_columns": null,
      "grid_auto_flow": null,
      "grid_auto_rows": null,
      "grid_column": null,
      "grid_gap": null,
      "grid_row": null,
      "grid_template_areas": null,
      "grid_template_columns": null,
      "grid_template_rows": null,
      "height": null,
      "justify_content": null,
      "justify_items": null,
      "left": null,
      "margin": null,
      "max_height": null,
      "max_width": null,
      "min_height": null,
      "min_width": null,
      "object_fit": null,
      "object_position": null,
      "order": null,
      "overflow": null,
      "overflow_x": null,
      "overflow_y": null,
      "padding": null,
      "right": null,
      "top": null,
      "visibility": null,
      "width": null
     }
    },
    "685d5ef12af040ff89669f0cf644bc99": {
     "model_module": "@jupyter-widgets/controls",
     "model_module_version": "1.5.0",
     "model_name": "SliderStyleModel",
     "state": {
      "_model_module": "@jupyter-widgets/controls",
      "_model_module_version": "1.5.0",
      "_model_name": "SliderStyleModel",
      "_view_count": null,
      "_view_module": "@jupyter-widgets/base",
      "_view_module_version": "1.2.0",
      "_view_name": "StyleView",
      "description_width": "",
      "handle_color": null
     }
    },
    "7709156c8ac44d2ea7428adc52c8ebad": {
     "model_module": "@jupyter-widgets/controls",
     "model_module_version": "1.5.0",
     "model_name": "VBoxModel",
     "state": {
      "_dom_classes": [
       "widget-interact"
      ],
      "_model_module": "@jupyter-widgets/controls",
      "_model_module_version": "1.5.0",
      "_model_name": "VBoxModel",
      "_view_count": null,
      "_view_module": "@jupyter-widgets/controls",
      "_view_module_version": "1.5.0",
      "_view_name": "VBoxView",
      "box_style": "",
      "children": [
       "IPY_MODEL_c45395c6731340ad83b7e2a90621012e",
       "IPY_MODEL_8f83d8aa7868410f99eb6eb77d200368",
       "IPY_MODEL_f8f6829f5842413490d7580bd3ed35cf"
      ],
      "layout": "IPY_MODEL_382f9dd679d946b8b33ab0e677f366d1"
     }
    },
    "7fb9ca36815940ac9e01121376d17aa4": {
     "model_module": "@jupyter-widgets/base",
     "model_module_version": "1.2.0",
     "model_name": "LayoutModel",
     "state": {
      "_model_module": "@jupyter-widgets/base",
      "_model_module_version": "1.2.0",
      "_model_name": "LayoutModel",
      "_view_count": null,
      "_view_module": "@jupyter-widgets/base",
      "_view_module_version": "1.2.0",
      "_view_name": "LayoutView",
      "align_content": null,
      "align_items": null,
      "align_self": null,
      "border": null,
      "bottom": null,
      "display": null,
      "flex": null,
      "flex_flow": null,
      "grid_area": null,
      "grid_auto_columns": null,
      "grid_auto_flow": null,
      "grid_auto_rows": null,
      "grid_column": null,
      "grid_gap": null,
      "grid_row": null,
      "grid_template_areas": null,
      "grid_template_columns": null,
      "grid_template_rows": null,
      "height": null,
      "justify_content": null,
      "justify_items": null,
      "left": null,
      "margin": null,
      "max_height": null,
      "max_width": null,
      "min_height": null,
      "min_width": null,
      "object_fit": null,
      "object_position": null,
      "order": null,
      "overflow": null,
      "overflow_x": null,
      "overflow_y": null,
      "padding": null,
      "right": null,
      "top": null,
      "visibility": null,
      "width": null
     }
    },
    "8f83d8aa7868410f99eb6eb77d200368": {
     "model_module": "@jupyter-widgets/controls",
     "model_module_version": "1.5.0",
     "model_name": "IntSliderModel",
     "state": {
      "_dom_classes": [],
      "_model_module": "@jupyter-widgets/controls",
      "_model_module_version": "1.5.0",
      "_model_name": "IntSliderModel",
      "_view_count": null,
      "_view_module": "@jupyter-widgets/controls",
      "_view_module_version": "1.5.0",
      "_view_name": "IntSliderView",
      "continuous_update": false,
      "description": "n_neighbors",
      "description_tooltip": null,
      "disabled": false,
      "layout": "IPY_MODEL_7fb9ca36815940ac9e01121376d17aa4",
      "max": 10,
      "min": 2,
      "orientation": "horizontal",
      "readout": true,
      "readout_format": "d",
      "step": 1,
      "style": "IPY_MODEL_fa09ae24fa314069be4aaad4a4cfbf26",
      "value": 5
     }
    },
    "c45395c6731340ad83b7e2a90621012e": {
     "model_module": "@jupyter-widgets/controls",
     "model_module_version": "1.5.0",
     "model_name": "IntSliderModel",
     "state": {
      "_dom_classes": [],
      "_model_module": "@jupyter-widgets/controls",
      "_model_module_version": "1.5.0",
      "_model_name": "IntSliderModel",
      "_view_count": null,
      "_view_module": "@jupyter-widgets/controls",
      "_view_module_version": "1.5.0",
      "_view_name": "IntSliderView",
      "continuous_update": false,
      "description": "start_image_idx",
      "description_tooltip": null,
      "disabled": false,
      "layout": "IPY_MODEL_49c407cd249247a78cbd615f4e82b1ff",
      "max": 9599,
      "min": 0,
      "orientation": "horizontal",
      "readout": true,
      "readout_format": "d",
      "step": 1,
      "style": "IPY_MODEL_685d5ef12af040ff89669f0cf644bc99",
      "value": 3019
     }
    },
    "f8f6829f5842413490d7580bd3ed35cf": {
     "model_module": "@jupyter-widgets/output",
     "model_module_version": "1.0.0",
     "model_name": "OutputModel",
     "state": {
      "_dom_classes": [],
      "_model_module": "@jupyter-widgets/output",
      "_model_module_version": "1.0.0",
      "_model_name": "OutputModel",
      "_view_count": null,
      "_view_module": "@jupyter-widgets/output",
      "_view_module_version": "1.0.0",
      "_view_name": "OutputView",
      "layout": "IPY_MODEL_57d943607ae74603ba1444f1347d1a3c",
      "msg_id": "",
      "outputs": [
       {
        "name": "stdout",
        "output_type": "stream",
        "text": [
         "\r1/1 [==============================] - ETA: 0s"
        ]
       },
       {
        "name": "stdout",
        "output_type": "stream",
        "text": [
         "\b\b\b\b\b\b\b\b\b\b\b\b\b\b\b\b\b\b\b\b\b\b\b\b\b\b\b\b\b\b\b\b\b\b\b\b\b\b\b\b\b\b\b\b\b\b\r1/1 [==============================] - 0s 29ms/step\n"
        ]
       },
       {
        "data": {
         "image/png": "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\n",
         "text/plain": "<Figure size 1000x500 with 6 Axes>"
        },
        "metadata": {},
        "output_type": "display_data"
       }
      ]
     }
    },
    "fa09ae24fa314069be4aaad4a4cfbf26": {
     "model_module": "@jupyter-widgets/controls",
     "model_module_version": "1.5.0",
     "model_name": "SliderStyleModel",
     "state": {
      "_model_module": "@jupyter-widgets/controls",
      "_model_module_version": "1.5.0",
      "_model_name": "SliderStyleModel",
      "_view_count": null,
      "_view_module": "@jupyter-widgets/base",
      "_view_module_version": "1.2.0",
      "_view_name": "StyleView",
      "description_width": "",
      "handle_color": null
     }
    }
   }
  }
 },
 "nbformat": 4,
 "nbformat_minor": 4
}
