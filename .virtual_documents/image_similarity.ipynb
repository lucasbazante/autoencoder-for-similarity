import tensorflow_datasets as tfds

import numpy as np
import matplotlib.pyplot as plt

import tensorflow as tf
from tensorflow import keras
from keras import layers

import functools

from sklearn.neighbors import NearestNeighbors # similarity

import ipywidgets as w # interface


ds = tfds.load("imagenette/160px")


def extract_image(example):
    image = example['image']
    return image

def preprocess_image(image, height, width):
    image = tf.image.resize(image, (height, width))
    image = tf.cast(image, tf.float32) / 255.0
    return image

def get_image_batches(batch_size = 128, height = 256, width = 256):
    partial_preprocess_image = functools.partial(preprocess_image, height=height, width=width)
    train_ds = ds['train']
    train_ds = ( train_ds.map(extract_image)
                .map(partial_preprocess_image)
                .cache()
                .shuffle(buffer_size=1000)
                .batch(batch_size)
                .prefetch(tf.data.AUTOTUNE)
                )
    return train_ds


BATCH_SIZE = 32
IMG_WIDTH = IMG_HEIGHT = 32
train_ds = get_image_batches(batch_size = BATCH_SIZE, height = IMG_HEIGHT, width = IMG_WIDTH)


images = np.array([img for batch in train_ds.take(300) for img in batch])
print(images.shape)


encoder = keras.models.load_model("saved_models/encoder.keras")
encoder.summary()


features = encoder.predict(images, batch_size = BATCH_SIZE)

knn = NearestNeighbors(n_neighbors=5, metric="cosine")
knn.fit(features)


def show_similar_images(start_image_idx, n_neighbors=10):
    input_image = images[start_image_idx]
    input_image = np.expand_dims(input_image, 0)
    fig, axes = plt.subplots(1, n_neighbors+1, figsize=(n_neighbors * 2, 5))

    feature = encoder.predict(input_image)
    distances, nbors = knn.kneighbors(feature, n_neighbors=n_neighbors)
    distances, nbors = distances[0], nbors[0]
    nbor_images = [images[i] for i in nbors]

    for i in range(len(nbor_images)+1):
        ax = axes[i]
        ax.set_axis_off()
        if i == 0:
            ax.imshow(input_image.squeeze(0))
            ax.set_title("Input")
        else:
            ax.imshow(nbor_images[i-1])
            ax.set_title(f"Sim: {1 - distances[i-1]:.2f}")
    plt.show()

w.interact(show_similar_images, 
    start_image_idx=w.IntSlider(max=len(images)-1, continuous_update=False),
    n_neighbors=w.IntSlider(min=2, value=5, max=10, continuous_update=False),
)
